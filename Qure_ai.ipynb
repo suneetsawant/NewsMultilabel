{
  "nbformat": 4,
  "nbformat_minor": 0,
  "metadata": {
    "colab": {
      "name": "Qure.ai",
      "provenance": [],
      "collapsed_sections": [],
      "include_colab_link": true
    },
    "kernelspec": {
      "name": "python3",
      "display_name": "Python 3"
    },
    "accelerator": "GPU",
    "widgets": {
      "application/vnd.jupyter.widget-state+json": {
        "931f88afd8ce4919a1653dc4ebb32b7e": {
          "model_module": "@jupyter-widgets/controls",
          "model_name": "HBoxModel",
          "state": {
            "_view_name": "HBoxView",
            "_dom_classes": [],
            "_model_name": "HBoxModel",
            "_view_module": "@jupyter-widgets/controls",
            "_model_module_version": "1.5.0",
            "_view_count": null,
            "_view_module_version": "1.5.0",
            "box_style": "",
            "layout": "IPY_MODEL_1bb9f08dd7f643ca818a5b2b608181bd",
            "_model_module": "@jupyter-widgets/controls",
            "children": [
              "IPY_MODEL_f60bd245654243be8027a895886c2838",
              "IPY_MODEL_9f990596701e42898025ade3cd139f70"
            ]
          }
        },
        "1bb9f08dd7f643ca818a5b2b608181bd": {
          "model_module": "@jupyter-widgets/base",
          "model_name": "LayoutModel",
          "state": {
            "_view_name": "LayoutView",
            "grid_template_rows": null,
            "right": null,
            "justify_content": null,
            "_view_module": "@jupyter-widgets/base",
            "overflow": null,
            "_model_module_version": "1.2.0",
            "_view_count": null,
            "flex_flow": null,
            "width": null,
            "min_width": null,
            "border": null,
            "align_items": null,
            "bottom": null,
            "_model_module": "@jupyter-widgets/base",
            "top": null,
            "grid_column": null,
            "overflow_y": null,
            "overflow_x": null,
            "grid_auto_flow": null,
            "grid_area": null,
            "grid_template_columns": null,
            "flex": null,
            "_model_name": "LayoutModel",
            "justify_items": null,
            "grid_row": null,
            "max_height": null,
            "align_content": null,
            "visibility": null,
            "align_self": null,
            "height": null,
            "min_height": null,
            "padding": null,
            "grid_auto_rows": null,
            "grid_gap": null,
            "max_width": null,
            "order": null,
            "_view_module_version": "1.2.0",
            "grid_template_areas": null,
            "object_position": null,
            "object_fit": null,
            "grid_auto_columns": null,
            "margin": null,
            "display": null,
            "left": null
          }
        },
        "f60bd245654243be8027a895886c2838": {
          "model_module": "@jupyter-widgets/controls",
          "model_name": "FloatProgressModel",
          "state": {
            "_view_name": "ProgressView",
            "style": "IPY_MODEL_806727217fcf41d29840c98808047f62",
            "_dom_classes": [],
            "description": "Downloading: 100%",
            "_model_name": "FloatProgressModel",
            "bar_style": "success",
            "max": 231508,
            "_view_module": "@jupyter-widgets/controls",
            "_model_module_version": "1.5.0",
            "value": 231508,
            "_view_count": null,
            "_view_module_version": "1.5.0",
            "orientation": "horizontal",
            "min": 0,
            "description_tooltip": null,
            "_model_module": "@jupyter-widgets/controls",
            "layout": "IPY_MODEL_8df34ff889664d5399295ccc46985ddf"
          }
        },
        "9f990596701e42898025ade3cd139f70": {
          "model_module": "@jupyter-widgets/controls",
          "model_name": "HTMLModel",
          "state": {
            "_view_name": "HTMLView",
            "style": "IPY_MODEL_96a82c9168454a9db29d296951c6ee27",
            "_dom_classes": [],
            "description": "",
            "_model_name": "HTMLModel",
            "placeholder": "​",
            "_view_module": "@jupyter-widgets/controls",
            "_model_module_version": "1.5.0",
            "value": " 232k/232k [00:17&lt;00:00, 13.4kB/s]",
            "_view_count": null,
            "_view_module_version": "1.5.0",
            "description_tooltip": null,
            "_model_module": "@jupyter-widgets/controls",
            "layout": "IPY_MODEL_eeae0f98bfff44e8b4f4d1e0856b0188"
          }
        },
        "806727217fcf41d29840c98808047f62": {
          "model_module": "@jupyter-widgets/controls",
          "model_name": "ProgressStyleModel",
          "state": {
            "_view_name": "StyleView",
            "_model_name": "ProgressStyleModel",
            "description_width": "initial",
            "_view_module": "@jupyter-widgets/base",
            "_model_module_version": "1.5.0",
            "_view_count": null,
            "_view_module_version": "1.2.0",
            "bar_color": null,
            "_model_module": "@jupyter-widgets/controls"
          }
        },
        "8df34ff889664d5399295ccc46985ddf": {
          "model_module": "@jupyter-widgets/base",
          "model_name": "LayoutModel",
          "state": {
            "_view_name": "LayoutView",
            "grid_template_rows": null,
            "right": null,
            "justify_content": null,
            "_view_module": "@jupyter-widgets/base",
            "overflow": null,
            "_model_module_version": "1.2.0",
            "_view_count": null,
            "flex_flow": null,
            "width": null,
            "min_width": null,
            "border": null,
            "align_items": null,
            "bottom": null,
            "_model_module": "@jupyter-widgets/base",
            "top": null,
            "grid_column": null,
            "overflow_y": null,
            "overflow_x": null,
            "grid_auto_flow": null,
            "grid_area": null,
            "grid_template_columns": null,
            "flex": null,
            "_model_name": "LayoutModel",
            "justify_items": null,
            "grid_row": null,
            "max_height": null,
            "align_content": null,
            "visibility": null,
            "align_self": null,
            "height": null,
            "min_height": null,
            "padding": null,
            "grid_auto_rows": null,
            "grid_gap": null,
            "max_width": null,
            "order": null,
            "_view_module_version": "1.2.0",
            "grid_template_areas": null,
            "object_position": null,
            "object_fit": null,
            "grid_auto_columns": null,
            "margin": null,
            "display": null,
            "left": null
          }
        },
        "96a82c9168454a9db29d296951c6ee27": {
          "model_module": "@jupyter-widgets/controls",
          "model_name": "DescriptionStyleModel",
          "state": {
            "_view_name": "StyleView",
            "_model_name": "DescriptionStyleModel",
            "description_width": "",
            "_view_module": "@jupyter-widgets/base",
            "_model_module_version": "1.5.0",
            "_view_count": null,
            "_view_module_version": "1.2.0",
            "_model_module": "@jupyter-widgets/controls"
          }
        },
        "eeae0f98bfff44e8b4f4d1e0856b0188": {
          "model_module": "@jupyter-widgets/base",
          "model_name": "LayoutModel",
          "state": {
            "_view_name": "LayoutView",
            "grid_template_rows": null,
            "right": null,
            "justify_content": null,
            "_view_module": "@jupyter-widgets/base",
            "overflow": null,
            "_model_module_version": "1.2.0",
            "_view_count": null,
            "flex_flow": null,
            "width": null,
            "min_width": null,
            "border": null,
            "align_items": null,
            "bottom": null,
            "_model_module": "@jupyter-widgets/base",
            "top": null,
            "grid_column": null,
            "overflow_y": null,
            "overflow_x": null,
            "grid_auto_flow": null,
            "grid_area": null,
            "grid_template_columns": null,
            "flex": null,
            "_model_name": "LayoutModel",
            "justify_items": null,
            "grid_row": null,
            "max_height": null,
            "align_content": null,
            "visibility": null,
            "align_self": null,
            "height": null,
            "min_height": null,
            "padding": null,
            "grid_auto_rows": null,
            "grid_gap": null,
            "max_width": null,
            "order": null,
            "_view_module_version": "1.2.0",
            "grid_template_areas": null,
            "object_position": null,
            "object_fit": null,
            "grid_auto_columns": null,
            "margin": null,
            "display": null,
            "left": null
          }
        }
      }
    }
  },
  "cells": [
    {
      "cell_type": "markdown",
      "metadata": {
        "id": "view-in-github",
        "colab_type": "text"
      },
      "source": [
        "<a href=\"https://colab.research.google.com/github/suneetsawant/NewsMultilabel/blob/main/Qure_ai.ipynb\" target=\"_parent\"><img src=\"https://colab.research.google.com/assets/colab-badge.svg\" alt=\"Open In Colab\"/></a>"
      ]
    },
    {
      "cell_type": "code",
      "metadata": {
        "id": "T43y6i21Iaax"
      },
      "source": [
        ""
      ],
      "execution_count": null,
      "outputs": []
    },
    {
      "cell_type": "code",
      "metadata": {
        "id": "dsogB0mvG3wp"
      },
      "source": [
        "!pip install transformers==3.0.0\n",
        "!pip install -U -q PyDrive\n",
        "!pip install httplib2==0.15.0\n",
        "# \n",
        "from pydrive.auth import GoogleAuth\n",
        "from pydrive.drive import GoogleDrive\n",
        "from google.colab import auth\n",
        "from oauth2client.client import GoogleCredentials\n",
        "class Drive():   \n",
        "  def __init__(self) :  \n",
        "    auth.authenticate_user()\n",
        "    gauth = GoogleAuth()\n",
        "    gauth.credentials = GoogleCredentials.get_application_default()\n",
        "    self.drive = GoogleDrive(gauth)\n",
        "\n",
        "\n",
        "  def fileaction(self,files,op='up') : \n",
        "    file_list = self.drive.ListFile({'q': \"'root' in parents and trashed=false\"}).GetList()\n",
        "    for filename in files:\n",
        "      flag = 0 \n",
        "\n",
        "      for file1 in file_list:\n",
        "        if (file1['title']) == filename :\n",
        "            if (op == 'up'and flag==0) : \n",
        "                file1.Delete()\n",
        "                self.upload(filename)\n",
        "                flag = 1\n",
        "\n",
        "            elif (op == 'down') : \n",
        "                self.download(filename,file1) \n",
        "\n",
        "      if(op=='up' and flag==0): \n",
        "            self.upload(filename)\n",
        "            flag = 1\n",
        "\n",
        "  def upload(self,filename) : \n",
        "      Uploadfile = self.drive.CreateFile({'title': filename})\n",
        "      Uploadfile.SetContentFile(filename)\n",
        "      Uploadfile.Upload()\n",
        "      print(\"Saved '{}' to Drive\".format(filename))\n",
        "\n",
        "  def download(self,filename,file1): \n",
        "      downloaded = self.drive.CreateFile({'id':file1['id']})\n",
        "      downloaded.GetContentFile(filename)\n",
        "      print(\"Downloaded '{}' from Drive\".format(filename))\n"
      ],
      "execution_count": null,
      "outputs": []
    },
    {
      "cell_type": "code",
      "metadata": {
        "colab": {
          "base_uri": "https://localhost:8080/",
          "height": 35
        },
        "id": "Y80y-64tcAu-",
        "outputId": "bfa0dd37-9b1f-40c4-bb6c-f17bbbdf0611"
      },
      "source": [
        "import pandas as pd\n",
        "import numpy as np \n",
        "import numpy as np\n",
        "import pandas as pd\n",
        "from sklearn import metrics\n",
        "import transformers\n",
        "import torch\n",
        "from torch.utils.data import TensorDataset,Dataset, DataLoader, RandomSampler, SequentialSampler\n",
        "from transformers import BertTokenizer, BertModel, BertConfig\n",
        "from torch import cuda\n",
        "from transformers import AutoModel, BertTokenizerFast\n",
        "from sklearn.model_selection import train_test_split\n",
        "from sklearn.metrics import accuracy_score,f1_score,hamming_loss,roc_auc_score\n",
        "import matplotlib.pyplot as plt\n",
        "%matplotlib inline\n",
        "import seaborn as sns\n",
        "\n",
        "device = 'cuda' if cuda.is_available() else 'cpu'\n",
        "device"
      ],
      "execution_count": 2,
      "outputs": [
        {
          "output_type": "execute_result",
          "data": {
            "application/vnd.google.colaboratory.intrinsic+json": {
              "type": "string"
            },
            "text/plain": [
              "'cuda'"
            ]
          },
          "metadata": {
            "tags": []
          },
          "execution_count": 2
        }
      ]
    },
    {
      "cell_type": "code",
      "metadata": {
        "id": "iYDf_8G9MPjq"
      },
      "source": [
        "import logging\n",
        "logger = logging.getLogger()\n",
        "fhandler = logging.FileHandler(filename='train.log', mode='a')\n",
        "formatter = logging.Formatter('%(asctime)s - %(name)s - %(levelname)s - %(message)s')\n",
        "fhandler.setFormatter(formatter)\n",
        "logger.addHandler(fhandler)\n",
        "logger.setLevel(logging.DEBUG)"
      ],
      "execution_count": 3,
      "outputs": []
    },
    {
      "cell_type": "markdown",
      "metadata": {
        "id": "df_yMxuJHfM3"
      },
      "source": [
        "## Download Data\n",
        "\n",
        "Download data **the_hindu_data.csv** from the google drive \n",
        "\n"
      ]
    },
    {
      "cell_type": "code",
      "metadata": {
        "colab": {
          "base_uri": "https://localhost:8080/"
        },
        "id": "KPxS8blKHA_9",
        "outputId": "611bf3f2-f63b-4b82-8525-98030badb73f"
      },
      "source": [
        "!gdown --id 1M0uWWKHjHFwEjrdYVDQSnYnWjuUdOyIe\n",
        "# https://drive.google.com/file/d/1M0uWWKHjHFwEjrdYVDQSnYnWjuUdOyIe/view?usp=sharing\n",
        "#https://drive.google.com/file/d/15alKiDAs2VRdlCVJKIwc4gSBedwbHdug/view?usp=sharing"
      ],
      "execution_count": 5,
      "outputs": [
        {
          "output_type": "stream",
          "text": [
            "Downloading...\n",
            "From: https://drive.google.com/uc?id=1M0uWWKHjHFwEjrdYVDQSnYnWjuUdOyIe\n",
            "To: /content/the_hindu_data.csv\n",
            "363MB [00:02, 163MB/s]\n"
          ],
          "name": "stdout"
        }
      ]
    },
    {
      "cell_type": "markdown",
      "metadata": {
        "id": "NMG51YuacRUw"
      },
      "source": [
        "## Data Analysis"
      ]
    },
    {
      "cell_type": "code",
      "metadata": {
        "id": "UNPUPF5lIYQK",
        "colab": {
          "base_uri": "https://localhost:8080/"
        },
        "outputId": "ecf05706-6c9b-413d-ad01-4c263be36634"
      },
      "source": [
        "df = pd.read_csv('the_hindu_data.csv')\n",
        "df['section'].unique()\n",
        "\n",
        "\n",
        "# df = df[:1000]\n",
        "df.info()"
      ],
      "execution_count": 6,
      "outputs": [
        {
          "output_type": "stream",
          "text": [
            "<class 'pandas.core.frame.DataFrame'>\n",
            "RangeIndex: 97305 entries, 0 to 97304\n",
            "Data columns (total 6 columns):\n",
            " #   Column   Non-Null Count  Dtype \n",
            "---  ------   --------------  ----- \n",
            " 0   url      97305 non-null  object\n",
            " 1   text     97305 non-null  object\n",
            " 2   summary  97305 non-null  object\n",
            " 3   title    97305 non-null  object\n",
            " 4   tag      89431 non-null  object\n",
            " 5   section  97305 non-null  object\n",
            "dtypes: object(6)\n",
            "memory usage: 4.5+ MB\n"
          ],
          "name": "stdout"
        }
      ]
    },
    {
      "cell_type": "code",
      "metadata": {
        "colab": {
          "base_uri": "https://localhost:8080/",
          "height": 70
        },
        "id": "j6DFIx8hoJTJ",
        "outputId": "a9b2506b-978e-47bf-8b08-567ab0719a8d"
      },
      "source": [
        "import nltk\n",
        "nltk.download('stopwords')\n",
        "import re\n",
        "from nltk.corpus import stopwords\n",
        "replacement = {\n",
        "    \"aren't\" : \"are not\",\n",
        "    \"can't\" : \"cannot\",\n",
        "    \"couldn't\" : \"could not\",\n",
        "    \"didn't\" : \"did not\",\n",
        "    \"doesn't\" : \"does not\",\n",
        "    \"don't\" : \"do not\",\n",
        "    \"hadn't\" : \"had not\",\n",
        "    \"hasn't\" : \"has not\",\n",
        "    \"haven't\" : \"have not\",\n",
        "    \"he'd\" : \"he would\",\n",
        "    \"he'll\" : \"he will\",\n",
        "    \"he's\" : \"he is\",\n",
        "    \"i'd\" : \"I would\",\n",
        "    \"i'll\" : \"I will\",\n",
        "    \"i'm\" : \"I am\",\n",
        "    \"isn't\" : \"is not\",\n",
        "    \"it's\" : \"it is\",\n",
        "    \"it'll\":\"it will\",\n",
        "    \"i've\" : \"I have\",\n",
        "    \"let's\" : \"let us\",\n",
        "    \"mightn't\" : \"might not\",\n",
        "    \"mustn't\" : \"must not\",\n",
        "    \"shan't\" : \"shall not\",\n",
        "    \"she'd\" : \"she would\",\n",
        "    \"she'll\" : \"she will\",\n",
        "    \"she's\" : \"she is\",\n",
        "    \"shouldn't\" : \"should not\",\n",
        "    \"that's\" : \"that is\",\n",
        "    \"there's\" : \"there is\",\n",
        "    \"they'd\" : \"they would\",\n",
        "    \"they'll\" : \"they will\",\n",
        "    \"they're\" : \"they are\",\n",
        "    \"they've\" : \"they have\",\n",
        "    \"we'd\" : \"we would\",\n",
        "    \"we're\" : \"we are\",\n",
        "    \"weren't\" : \"were not\",\n",
        "    \"we've\" : \"we have\",\n",
        "    \"what'll\" : \"what will\",\n",
        "    \"what're\" : \"what are\",\n",
        "    \"what's\" : \"what is\",\n",
        "    \"what've\" : \"what have\",\n",
        "    \"where's\" : \"where is\",\n",
        "    \"who'd\" : \"who would\",\n",
        "    \"who'll\" : \"who will\",\n",
        "    \"who're\" : \"who are\",\n",
        "    \"who's\" : \"who is\",\n",
        "    \"who've\" : \"who have\",\n",
        "    \"won't\" : \"will not\",\n",
        "    \"wouldn't\" : \"would not\",\n",
        "    \"you'd\" : \"you would\",\n",
        "    \"you'll\" : \"you will\",\n",
        "    \"you're\" : \"you are\",\n",
        "    \"you've\" : \"you have\",\n",
        "    \"'re\": \" are\",\n",
        "    \"wasn't\": \"was not\",\n",
        "    \"we'll\":\" will\",\n",
        "    \"tryin'\":\"trying\",\n",
        "}\n",
        "class EnglishPreProcessor(object):\n",
        "    def __init__(self,min_len = 2):\n",
        "        self.min_len = min_len\n",
        "        self.reset()\n",
        "\n",
        "    def lower(self,sentence):\n",
        "        '''\n",
        "        '''\n",
        "        return sentence.lower()\n",
        "\n",
        "    def reset(self):\n",
        "        '''\n",
        "        '''\n",
        "        self.stopwords = {}\n",
        "        for line in stopwords.words('english'):\n",
        "            word = line.strip(' ').strip('\\n')\n",
        "            self.stopwords[word] = 1\n",
        "\n",
        "\n",
        "    def clean_length(self,sentence):\n",
        "        '''\n",
        "        :return:\n",
        "        '''\n",
        "        if len([x for x in sentence]) >= self.min_len:\n",
        "            return sentence\n",
        "\n",
        "    def replace(self,sentence):\n",
        "        '''\n",
        "        :return:\n",
        "        '''\n",
        "        # Replace words like gooood to good\n",
        "        sentence = re.sub(r'(\\w)\\1{2,}', r'\\1\\1', sentence)\n",
        "        # Normalize common abbreviations\n",
        "        words = sentence.split(' ')\n",
        "        words = [replacement[word] if word in replacement else word for word in words]\n",
        "        sentence_repl = \" \".join(words)\n",
        "        return sentence_repl\n",
        "\n",
        "    def remove_website(self,sentence):\n",
        "        '''\n",
        "        '''\n",
        "        sentence_repl = sentence.replace(r\"http\\S+\", \"\")\n",
        "        sentence_repl = sentence_repl.replace(r\"https\\S+\", \"\")\n",
        "        sentence_repl = sentence_repl.replace(r\"http\", \"\")\n",
        "        sentence_repl = sentence_repl.replace(r\"https\", \"\")\n",
        "        return sentence_repl\n",
        "\n",
        "    def remove_name_tag(self,sentence):\n",
        "        # Remove name tag\n",
        "        sentence_repl = sentence.replace(r\"@\\S+\", \"\")\n",
        "        return sentence_repl\n",
        "\n",
        "    def remove_time(self,sentence):\n",
        "        '''\n",
        "        '''\n",
        "        # Remove time related text\n",
        "        sentence_repl = sentence.replace(r'\\w{3}[+-][0-9]{1,2}\\:[0-9]{2}\\b', \"\")  # e.g. UTC+09:00\n",
        "        sentence_repl = sentence_repl.replace(r'\\d{1,2}\\:\\d{2}\\:\\d{2}', \"\")  # e.g. 18:09:01\n",
        "        sentence_repl = sentence_repl.replace(r'\\d{1,2}\\:\\d{2}', \"\")  # e.g. 18:09\n",
        "        # Remove date related text\n",
        "        # e.g. 11/12/19, 11-1-19, 1.12.19, 11/12/2019\n",
        "        sentence_repl = sentence_repl.replace(r'\\d{1,2}(?:\\/|\\-|\\.)\\d{1,2}(?:\\/|\\-|\\.)\\d{2,4}', \"\")\n",
        "        # e.g. 11 dec, 2019   11 dec 2019   dec 11, 2019\n",
        "        sentence_repl = sentence_repl.replace(\n",
        "            r\"([\\d]{1,2}\\s(jan|feb|mar|apr|may|jun|jul|aug|sep|oct|nov|dec)|(jan|feb|mar|apr|may|jun|jul|aug|sep|oct|nov|dec)\\s[\\d]{1,2})(\\s|\\,|\\,\\s|\\s\\,)[\\d]{2,4}\",\n",
        "            \"\")\n",
        "        # e.g. 11 december, 2019   11 december 2019   december 11, 2019\n",
        "        sentence_repl = sentence_repl.replace(\n",
        "            r\"[\\d]{1,2}\\s(january|february|march|april|may|june|july|august|september|october|november|december)(\\s|\\,|\\,\\s|\\s\\,)[\\d]{2,4}\",\n",
        "            \"\")\n",
        "        return sentence_repl\n",
        "\n",
        "    def remove_breaks(self,sentence):\n",
        "        # Remove line breaks\n",
        "        sentence_repl = sentence.replace(\"\\r\", \"\")\n",
        "        sentence_repl = sentence_repl.replace(\"\\n\", \"\")\n",
        "        sentence_repl = re.sub(r\"\\\\n\\n\", \".\", sentence_repl)\n",
        "        return sentence_repl\n",
        "\n",
        "    def remove_ip(self,sentence):\n",
        "        # Remove phone number and IP address\n",
        "        sentence_repl = sentence.replace(r'\\d{8,}', \"\")\n",
        "        sentence_repl = sentence_repl.replace(r'\\d{1,3}\\.\\d{1,3}\\.\\d{1,3}\\.\\d{1,3}', \"\")\n",
        "        return sentence_repl\n",
        "\n",
        "    def adjust_common(self,sentence):\n",
        "        # Adjust common abbreviation\n",
        "        sentence_repl = sentence.replace(r\" you re \", \" you are \")\n",
        "        sentence_repl = sentence_repl.replace(r\" we re \", \" we are \")\n",
        "        sentence_repl = sentence_repl.replace(r\" they re \", \" they are \")\n",
        "        sentence_repl = sentence_repl.replace(r\"@\", \"at\")\n",
        "        return sentence_repl\n",
        "\n",
        "\n",
        "    def remove_stopword(self,sentence):\n",
        "        '''\n",
        "        '''\n",
        "        words = sentence.split()\n",
        "        x = [word for word in words if word not in self.stopwords]\n",
        "        return \" \".join(x)\n",
        "\n",
        "    def __call__(self, sentence):\n",
        "        x = sentence\n",
        "        x = self.lower(x)\n",
        "        x = self.replace(x)\n",
        "        x = self.remove_website(x)\n",
        "        x = self.remove_name_tag(x)\n",
        "        x = self.remove_time(x)\n",
        "        x = self.remove_breaks(x)\n",
        "        x = self.remove_ip(x)\n",
        "        x = self.adjust_common(x)\n",
        "        x = self.remove_stopword(x)\n",
        "        return x\n",
        "EnglishPreProcessor(5)('no above stop word required')"
      ],
      "execution_count": 7,
      "outputs": [
        {
          "output_type": "stream",
          "text": [
            "[nltk_data] Downloading package stopwords to /root/nltk_data...\n",
            "[nltk_data]   Unzipping corpora/stopwords.zip.\n"
          ],
          "name": "stdout"
        },
        {
          "output_type": "execute_result",
          "data": {
            "application/vnd.google.colaboratory.intrinsic+json": {
              "type": "string"
            },
            "text/plain": [
              "'stop word required'"
            ]
          },
          "metadata": {
            "tags": []
          },
          "execution_count": 7
        }
      ]
    },
    {
      "cell_type": "markdown",
      "metadata": {
        "id": "LGbk5A1Jcdn4"
      },
      "source": [
        "### Word Count Distribution in Actual Text and Summary"
      ]
    },
    {
      "cell_type": "code",
      "metadata": {
        "colab": {
          "base_uri": "https://localhost:8080/",
          "height": 332
        },
        "id": "Bs4Tk_7Vcigg",
        "outputId": "4c8acc2f-cf3e-4aa9-cdd3-8551c93b7429"
      },
      "source": [
        "def word_count(sentence):\n",
        "  return len(sentence.split(' '))\n",
        "\n",
        "df['text'] = df['text'].apply(EnglishPreProcessor(5))\n",
        "df['summary'] = df['summary'].apply(EnglishPreProcessor(5))\n",
        "\n",
        "df['text_word_count'] = df['text'].apply(word_count) \n",
        "print('Wholte Text word count: 75perc={},max={},min={}'.format(df['text_word_count'].quantile(0.75),df['text_word_count'].max(),df['text_word_count'].min()))\n",
        "\n",
        "df['summary_word_count'] = df['summary'].apply(word_count) \n",
        "print('Summary word count: 75perc={},max={},min={}'.format(df['summary_word_count'].quantile(0.75),df['summary_word_count'].max(),df['summary_word_count'].min()))\n",
        "\n",
        "fig, ax = plt.subplots(1,2)\n",
        "sns.histplot(df['text_word_count'], ax=ax[0])\n",
        "sns.histplot(df['summary_word_count'], ax=ax[1])\n",
        "fig.tight_layout()\n",
        "fig.show()"
      ],
      "execution_count": 15,
      "outputs": [
        {
          "output_type": "stream",
          "text": [
            "Wholte Text word count: 75perc=300.0,max=11028,min=1\n",
            "Summary word count: 75perc=79.0,max=462,min=1\n"
          ],
          "name": "stdout"
        },
        {
          "output_type": "display_data",
          "data": {
            "image/png": "[encoded data removed]",
            "text/plain": [
              "<Figure size 432x288 with 2 Axes>"
            ]
          },
          "metadata": {
            "tags": [],
            "needs_background": "light"
          }
        }
      ]
    },
    {
      "cell_type": "markdown",
      "metadata": {
        "id": "Ji9ccQH7iTnz"
      },
      "source": [
        "### Split multiple labels into list of labels\n",
        "\n",
        "For e.g  labels like 'Entertainment & Variety' are converted to lowercased and then split into ['Entertainment','Variety']\n",
        "\n",
        "\n",
        "The delimiters for separation are '**,**', **'&',** '**and**' "
      ]
    },
    {
      "cell_type": "code",
      "metadata": {
        "colab": {
          "base_uri": "https://localhost:8080/"
        },
        "id": "of6ui_GGHiBS",
        "outputId": "f10acd1e-0e6c-41a0-9083-8dd54b450245"
      },
      "source": [
        "import re\n",
        "nltk.download('wordnet')\n",
        "from nltk.stem import WordNetLemmatizer \n",
        "lemmatizer = WordNetLemmatizer() \n",
        "\n",
        "def get_base_category(word):\n",
        "   combination_map = {\n",
        "       'agriculture':  ['agri','agri-business','agriculture'],\n",
        "      'books' : ['anything but books','book','literary review'],\n",
        "      'elections':['assembly elections','bihar assembly elections 2015','election','election data','lok sabha 2014',\n",
        "                   'lok sabha election','kerala assembly elections 2016','puducherry assembly elections 2016','west bengal assembly elections 2016'\n",
        "                   ],\n",
        "      'economy' : ['economy watch','economy'],\n",
        "      'delhi' : ['delhi 2020','delhi','new delhi',],\n",
        "    'education' : ['education','education plus'],\n",
        "    'motorsport':['motoring','motorsport'],\n",
        "    'mumbai' : ['mumbai','mumbai local','bombay showcase'],\n",
        "    'tamil nadu':['tamil nadu','tamil nadu 2016'],\n",
        "    'tabloids':['a','q','know your english','nxg','rx'],\n",
        "    'people': ['people','c.r.l. narasimhan','harsh mander','hasan suroor','makarand waingankar','sainath','sevanti ninan',\n",
        "               'siddharth varadarajan','subramanian','suhasini haidar','ziya us salam','vijay nagaswami','bill kirkman',\n",
        "               'chandrasekhar','j. murali','kalpana sharma','navtej sarna','nirmal shekar','yogacharini maitreyi'],\n",
        "    'articles': ['articles','latest news','news','new articles',\"today's paper\",'impact journalism day 2017','india@70',\n",
        "                 'sunday anchor','sunday magazine','the hindu @140'],\n",
        "    'the cables':['the cables','the india cables'],\n",
        "    'cricket':['champions trophy 2013','cricket'],\n",
        "    'movies': ['cinema', 'movie'],\n",
        "    'diet': ['nutrition','diet'],\n",
        "    'karnataka':['karnataka','karnataka 2018'],\n",
        "    'life':['life','lit for life'],\n",
        "    'metro plus':['metro plus','metroplus']\n",
        "   }\n",
        "\n",
        "   for k,v in combination_map.items():\n",
        "     if word in v:\n",
        "       return k\n",
        "   \n",
        "   return word\n",
        "def split_labels(labels):\n",
        "  final_labels = []\n",
        "  labels = re.split(r'[,]', labels)\n",
        "  for label in labels :\n",
        "     label = label.replace(' and ','&')\n",
        "     temp = re.split(r'[;,&]', label)\n",
        "     temp = [x.strip().lower() for x in temp if x != '']\n",
        "     temp = [lemmatizer.lemmatize(x) for x in temp]\n",
        "     temp = [get_base_category(x) for x in temp]\n",
        "    #  temp = [x[:-1] if x.endswith('s') else x for x in temp ] \n",
        "     final_labels += temp\n",
        "  return final_labels\n",
        "\n",
        "split_labels('Entertainments & Variety')\n",
        "\n",
        "# get_base_category('delhi')"
      ],
      "execution_count": 16,
      "outputs": [
        {
          "output_type": "stream",
          "text": [
            "[nltk_data] Downloading package wordnet to /root/nltk_data...\n",
            "[nltk_data]   Package wordnet is already up-to-date!\n"
          ],
          "name": "stdout"
        },
        {
          "output_type": "execute_result",
          "data": {
            "text/plain": [
              "['entertainment', 'variety']"
            ]
          },
          "metadata": {
            "tags": []
          },
          "execution_count": 16
        }
      ]
    },
    {
      "cell_type": "markdown",
      "metadata": {
        "id": "B0f1cUPIjNg2"
      },
      "source": [
        "### Create Mapping of labels "
      ]
    },
    {
      "cell_type": "code",
      "metadata": {
        "colab": {
          "base_uri": "https://localhost:8080/"
        },
        "id": "JCp9tAlpHlU-",
        "outputId": "b203ed0b-3d92-4ab8-b990-7cd03707911d"
      },
      "source": [
        "class_labels = []\n",
        "for labels in df['section'].unique():\n",
        "   class_labels += split_labels(labels) \n",
        "\n",
        "class_labels = list(dict.fromkeys(class_labels))\n",
        "label_map ={}\n",
        "i = 0\n",
        "for label in class_labels:\n",
        "  label_map[label] = i\n",
        "  i += 1\n",
        "label_map = dict(sorted(label_map.items()))\n",
        "print(label_map)\n",
        "\n",
        "num_labels = len(label_map)\n",
        "print(num_labels)\n",
        "label_map['international']\n",
        "inv_map = {v: k for k, v in label_map.items()}\n",
        "print(inv_map)"
      ],
      "execution_count": 17,
      "outputs": [
        {
          "output_type": "stream",
          "text": [
            "{'agriculture': 80, 'andhra pradesh': 26, 'app exclusive': 142, 'archive': 132, 'art': 38, 'articles': 56, 'assam': 146, 'athletics': 86, 'author': 117, 'bengaluru': 58, 'bihar': 61, 'books': 3, 'brainteasers': 135, 'budget 2020': 118, 'business': 19, 'career': 79, 'cartoon': 10, 'chennai': 13, 'child': 70, 'city': 113, 'clarification': 94, 'coimbatore': 57, 'college': 75, 'column': 16, 'comment': 46, 'company': 106, 'correction': 93, 'craft': 125, 'cricket': 35, 'culture': 39, 'dance': 65, 'data': 18, 'datadelve': 127, 'delhi': 24, 'design': 115, 'diet': 133, 'down town': 136, 'east': 97, 'economy': 21, 'editorial': 9, 'education': 55, 'elections': 74, 'entertainment': 36, 'environment': 54, 'faith': 60, 'fashion': 126, 'fitness': 83, 'food': 51, 'football': 45, 'friday review': 124, 'gadget': 28, 'gallery': 129, 'garden': 108, 'green living': 116, 'health': 5, 'history': 53, 'hockey': 1, 'home': 107, 'home finance': 151, 'hyderabad': 29, 'in school': 145, 'in-depth': 68, 'industry': 22, 'international': 0, 'internet': 27, 'interview': 87, 'issue': 78, 'karnataka': 14, 'kerala': 15, 'kochi': 89, 'kolkata': 20, 'kozhikode': 103, 'lead': 62, 'letter': 101, 'life': 49, 'luxury': 143, 'madhya pradesh': 66, 'madurai': 33, 'magazine': 100, 'mangaluru': 76, 'market': 23, 'medicine': 88, 'metro plus': 112, 'motorsport': 2, 'movies': 7, 'multimedia': 69, 'mumbai': 8, 'music': 48, 'mutual funds': 141, 'national': 6, 'navigation': 137, 'newsletter subscription': 131, 'north': 98, 'open page': 122, 'opinion': 109, 'other sports': 44, 'other states': 12, 'others': 134, 'people': 102, 'photo': 52, 'podcast': 64, 'policy': 42, 'politics': 41, 'property plus': 114, 'puducherry': 32, 'race': 82, \"readers' editor\": 111, 'reflection': 34, 'resource': 72, 'result': 119, 'review': 110, 'school': 71, 'sci-tech': 59, 'science': 4, 'section': 130, 'short': 139, 'signpost': 149, 'sikkim': 138, 'society': 40, 'south': 99, 'south asia': 95, 'special': 31, 'sport': 81, 'state': 85, 'style': 50, 'tabloids': 104, 'tale': 140, 'tamil nadu': 11, 'technology': 25, 'telangana': 17, 'television': 147, 'tennis': 67, 'terrorism': 148, 'the cables': 105, 'theatre': 92, 'thiruvananthapuram': 47, 'thread': 43, 'timeline': 120, 'tiruchirapalli': 63, 'travel': 73, 'variety': 37, 'video': 84, 'view': 150, 'vijayawada': 91, 'visakhapatnam': 90, 'web exclusives': 121, 'west': 96, 'women in action': 123, 'world': 77, 'world cup': 128, 'young world': 30, 'youth': 144}\n",
            "152\n",
            "{80: 'agriculture', 26: 'andhra pradesh', 142: 'app exclusive', 132: 'archive', 38: 'art', 56: 'articles', 146: 'assam', 86: 'athletics', 117: 'author', 58: 'bengaluru', 61: 'bihar', 3: 'books', 135: 'brainteasers', 118: 'budget 2020', 19: 'business', 79: 'career', 10: 'cartoon', 13: 'chennai', 70: 'child', 113: 'city', 94: 'clarification', 57: 'coimbatore', 75: 'college', 16: 'column', 46: 'comment', 106: 'company', 93: 'correction', 125: 'craft', 35: 'cricket', 39: 'culture', 65: 'dance', 18: 'data', 127: 'datadelve', 24: 'delhi', 115: 'design', 133: 'diet', 136: 'down town', 97: 'east', 21: 'economy', 9: 'editorial', 55: 'education', 74: 'elections', 36: 'entertainment', 54: 'environment', 60: 'faith', 126: 'fashion', 83: 'fitness', 51: 'food', 45: 'football', 124: 'friday review', 28: 'gadget', 129: 'gallery', 108: 'garden', 116: 'green living', 5: 'health', 53: 'history', 1: 'hockey', 107: 'home', 151: 'home finance', 29: 'hyderabad', 145: 'in school', 68: 'in-depth', 22: 'industry', 0: 'international', 27: 'internet', 87: 'interview', 78: 'issue', 14: 'karnataka', 15: 'kerala', 89: 'kochi', 20: 'kolkata', 103: 'kozhikode', 62: 'lead', 101: 'letter', 49: 'life', 143: 'luxury', 66: 'madhya pradesh', 33: 'madurai', 100: 'magazine', 76: 'mangaluru', 23: 'market', 88: 'medicine', 112: 'metro plus', 2: 'motorsport', 7: 'movies', 69: 'multimedia', 8: 'mumbai', 48: 'music', 141: 'mutual funds', 6: 'national', 137: 'navigation', 131: 'newsletter subscription', 98: 'north', 122: 'open page', 109: 'opinion', 44: 'other sports', 12: 'other states', 134: 'others', 102: 'people', 52: 'photo', 64: 'podcast', 42: 'policy', 41: 'politics', 114: 'property plus', 32: 'puducherry', 82: 'race', 111: \"readers' editor\", 34: 'reflection', 72: 'resource', 119: 'result', 110: 'review', 71: 'school', 59: 'sci-tech', 4: 'science', 130: 'section', 139: 'short', 149: 'signpost', 138: 'sikkim', 40: 'society', 99: 'south', 95: 'south asia', 31: 'special', 81: 'sport', 85: 'state', 50: 'style', 104: 'tabloids', 140: 'tale', 11: 'tamil nadu', 25: 'technology', 17: 'telangana', 147: 'television', 67: 'tennis', 148: 'terrorism', 105: 'the cables', 92: 'theatre', 47: 'thiruvananthapuram', 43: 'thread', 120: 'timeline', 63: 'tiruchirapalli', 73: 'travel', 37: 'variety', 84: 'video', 150: 'view', 91: 'vijayawada', 90: 'visakhapatnam', 121: 'web exclusives', 96: 'west', 123: 'women in action', 77: 'world', 128: 'world cup', 30: 'young world', 144: 'youth'}\n"
          ],
          "name": "stdout"
        }
      ]
    },
    {
      "cell_type": "markdown",
      "metadata": {
        "id": "CA-7cBrTjUmq"
      },
      "source": [
        "### Map the summary columns to get the one hot encoded output vectors"
      ]
    },
    {
      "cell_type": "code",
      "metadata": {
        "id": "nbhzDfCBHng0"
      },
      "source": [
        "def get_output_list(labels,num_labels):\n",
        "  output = [0]*num_labels\n",
        "  for label in labels :\n",
        "    output[label_map[label]] = 1\n",
        "  return output\n",
        "\n",
        "get_output_list(['cricket','science'],num_labels)\n",
        "def get_output_label(label_str):\n",
        "   label_list = split_labels(label_str)\n",
        "   return get_output_list(label_list,num_labels) \n",
        "\n",
        "df['output_label'] = df['section'].apply(get_output_label) \n",
        "\n",
        "\n",
        "# df.head()\n",
        "\n",
        "# get_output_label('International')\n",
        "   "
      ],
      "execution_count": 18,
      "outputs": []
    },
    {
      "cell_type": "markdown",
      "metadata": {
        "id": "12oQF6d-jfBA"
      },
      "source": [
        "## Train- Test Split"
      ]
    },
    {
      "cell_type": "code",
      "metadata": {
        "id": "YaUPQO8YIHBA"
      },
      "source": [
        "\n",
        "num_training_samples = len(df['summary'])#1000\n",
        "train_data = df['summary'][:num_training_samples]\n",
        "val_data = df['output_label'][:num_training_samples]\n",
        "\n",
        "# train_data = new_df['comment_text'][:num_training_samples]\n",
        "# val_data = new_df['list'][:num_training_samples]\n",
        "train_text, val_text, train_labels, val_labels = train_test_split(train_data, val_data, \n",
        "                                                                    random_state=2018, \n",
        "                                                                    test_size=0.2, \n",
        "                                                                      )\n",
        "# num_labels = 6\n",
        "print(train_text.shape)\n",
        "print(val_text.shape)\n",
        "print(num_training_samples)\n",
        "df.head()"
      ],
      "execution_count": null,
      "outputs": []
    },
    {
      "cell_type": "code",
      "metadata": {
        "colab": {
          "base_uri": "https://localhost:8080/",
          "height": 265
        },
        "id": "eKQClolivqTr",
        "outputId": "5e5bef72-f340-4ccc-ffbe-9dbe587664c2"
      },
      "source": [
        "# inv_map = {v: k for k, v in label_map.items()}\n",
        "\n",
        "count_map = {}\n",
        "for key in label_map.keys():\n",
        "  count_map[key] = 0\n",
        "for ele in df['output_label']:\n",
        "  idx = np.where(np.array(ele)>0)[0] \n",
        "  for id in idx :\n",
        "    count_map[inv_map[id]] += 1\n",
        "\n",
        "keys = count_map.keys()\n",
        "vals = count_map.values()\n",
        "\n",
        "num_instances = 0\n",
        "for k,v in count_map.items():\n",
        "   if k=='international':\n",
        "     print(k,v)\n",
        "   num_instances += v\n",
        "  \n",
        "wts = {}\n",
        "for k,v in count_map.items():\n",
        "   if k=='international':\n",
        "     print(k,v,num_instances)\n",
        "   wts[k] = (num_instances-v)/v\n",
        "\n",
        "wts_map = dict(sorted(wts.items()))\n",
        "print(label_map)\n",
        "print(wts_map)\n",
        "\n",
        "wts_list = [1]*len(wts_map)\n",
        "for k,v in wts_map.items():\n",
        "  wts_list[label_map[k]] = v \n",
        "\n",
        "print(num_instances)\n",
        "print(len(wts_list))\n",
        "dff = pd.DataFrame.from_dict([count_map],orient='columns')\n",
        "dff.head()\n"
      ],
      "execution_count": 20,
      "outputs": [
        {
          "output_type": "stream",
          "text": [
            "international 15852\n",
            "international 15852 98322\n",
            "{'agriculture': 80, 'andhra pradesh': 26, 'app exclusive': 142, 'archive': 132, 'art': 38, 'articles': 56, 'assam': 146, 'athletics': 86, 'author': 117, 'bengaluru': 58, 'bihar': 61, 'books': 3, 'brainteasers': 135, 'budget 2020': 118, 'business': 19, 'career': 79, 'cartoon': 10, 'chennai': 13, 'child': 70, 'city': 113, 'clarification': 94, 'coimbatore': 57, 'college': 75, 'column': 16, 'comment': 46, 'company': 106, 'correction': 93, 'craft': 125, 'cricket': 35, 'culture': 39, 'dance': 65, 'data': 18, 'datadelve': 127, 'delhi': 24, 'design': 115, 'diet': 133, 'down town': 136, 'east': 97, 'economy': 21, 'editorial': 9, 'education': 55, 'elections': 74, 'entertainment': 36, 'environment': 54, 'faith': 60, 'fashion': 126, 'fitness': 83, 'food': 51, 'football': 45, 'friday review': 124, 'gadget': 28, 'gallery': 129, 'garden': 108, 'green living': 116, 'health': 5, 'history': 53, 'hockey': 1, 'home': 107, 'home finance': 151, 'hyderabad': 29, 'in school': 145, 'in-depth': 68, 'industry': 22, 'international': 0, 'internet': 27, 'interview': 87, 'issue': 78, 'karnataka': 14, 'kerala': 15, 'kochi': 89, 'kolkata': 20, 'kozhikode': 103, 'lead': 62, 'letter': 101, 'life': 49, 'luxury': 143, 'madhya pradesh': 66, 'madurai': 33, 'magazine': 100, 'mangaluru': 76, 'market': 23, 'medicine': 88, 'metro plus': 112, 'motorsport': 2, 'movies': 7, 'multimedia': 69, 'mumbai': 8, 'music': 48, 'mutual funds': 141, 'national': 6, 'navigation': 137, 'newsletter subscription': 131, 'north': 98, 'open page': 122, 'opinion': 109, 'other sports': 44, 'other states': 12, 'others': 134, 'people': 102, 'photo': 52, 'podcast': 64, 'policy': 42, 'politics': 41, 'property plus': 114, 'puducherry': 32, 'race': 82, \"readers' editor\": 111, 'reflection': 34, 'resource': 72, 'result': 119, 'review': 110, 'school': 71, 'sci-tech': 59, 'science': 4, 'section': 130, 'short': 139, 'signpost': 149, 'sikkim': 138, 'society': 40, 'south': 99, 'south asia': 95, 'special': 31, 'sport': 81, 'state': 85, 'style': 50, 'tabloids': 104, 'tale': 140, 'tamil nadu': 11, 'technology': 25, 'telangana': 17, 'television': 147, 'tennis': 67, 'terrorism': 148, 'the cables': 105, 'theatre': 92, 'thiruvananthapuram': 47, 'thread': 43, 'timeline': 120, 'tiruchirapalli': 63, 'travel': 73, 'variety': 37, 'video': 84, 'view': 150, 'vijayawada': 91, 'visakhapatnam': 90, 'web exclusives': 121, 'west': 96, 'women in action': 123, 'world': 77, 'world cup': 128, 'young world': 30, 'youth': 144}\n",
            "{'agriculture': 706.3525179856115, 'andhra pradesh': 24.853799631869578, 'app exclusive': 49160.0, 'archive': 749.5496183206106, 'art': 221.95238095238096, 'articles': 64.72326203208556, 'assam': 8192.5, 'athletics': 2233.590909090909, 'author': 1364.5833333333333, 'bengaluru': 131.50943396226415, 'bihar': 1079.4615384615386, 'books': 732.7462686567164, 'brainteasers': 3170.6774193548385, 'budget 2020': 743.8636363636364, 'business': 127.86238532110092, 'career': 761.1860465116279, 'cartoon': 2586.4210526315787, 'chennai': 115.63345195729538, 'child': 530.4702702702702, 'city': 24579.5, 'clarification': 1926.8823529411766, 'coimbatore': 209.53961456102783, 'college': 732.7462686567164, 'column': 235.92048192771085, 'comment': 48.38322451029634, 'company': 221.95238095238096, 'correction': 1926.8823529411766, 'craft': 1423.9565217391305, 'cricket': 134.05769230769232, 'culture': 219.45291479820628, 'dance': 761.1860465116279, 'data': 1155.729411764706, 'datadelve': 8192.5, 'delhi': 55.76789838337182, 'design': 2656.3513513513512, 'diet': 3780.6153846153848, 'down town': 32773.0, 'east': 9831.2, 'economy': 64.07081403044342, 'editorial': 65.97683923705722, 'education': 511.09375, 'elections': 352.67625899280574, 'entertainment': 901.0366972477065, 'environment': 178.0928961748634, 'faith': 420.9828326180257, 'fashion': 876.875, 'fitness': 637.4545454545455, 'food': 573.9824561403509, 'football': 304.3478260869565, 'friday review': 4468.181818181818, 'gadget': 637.4545454545455, 'gallery': 49160.0, 'garden': 4095.75, 'green living': 1819.7777777777778, 'health': 238.22627737226279, 'history': 368.63157894736844, 'hockey': 1610.8360655737704, 'home': 4915.1, 'home finance': 9831.2, 'hyderabad': 37.28738317757009, 'in school': 49160.0, 'in-depth': 2005.5714285714287, 'industry': 56.972877358490564, 'international': 5.202498107494322, 'internet': 279.11965811965814, 'interview': 570.6395348837209, 'issue': 560.84, 'karnataka': 39.44508432743727, 'kerala': 34.39308855291576, 'kochi': 180.0718232044199, 'kolkata': 832.2372881355932, 'kozhikode': 195.644, 'lead': 82.32372881355933, 'letter': 691.4084507042254, 'life': 2285.5581395348836, 'luxury': 3640.5555555555557, 'madhya pradesh': 49160.0, 'madurai': 181.07777777777778, 'magazine': 513.7748691099476, 'mangaluru': 183.46904315196997, 'market': 187.71785028790788, 'medicine': 767.140625, 'metro plus': 471.7019230769231, 'motorsport': 749.5496183206106, 'movies': 124.41071428571429, 'multimedia': 3170.6774193548385, 'mumbai': 163.96979865771812, 'music': 336.87628865979383, 'mutual funds': 32773.0, 'national': 3.5122533272143186, 'navigation': 98321.0, 'newsletter subscription': 10923.666666666666, 'north': 4273.869565217391, 'open page': 972.4851485148515, 'opinion': 3071.5625, 'other sports': 365.8731343283582, 'other states': 17.110517590716523, 'others': 19663.4, 'people': 146.85263157894738, 'photo': 5461.333333333333, 'podcast': 972.4851485148515, 'policy': 412.11764705882354, 'politics': 972.4851485148515, 'property plus': 1275.909090909091, 'puducherry': 420.9828326180257, 'race': 2183.9333333333334, \"readers' editor\": 1155.729411764706, 'reflection': 271.3601108033241, 'resource': 412.11764705882354, 'result': 8937.363636363636, 'review': 350.15, 'school': 2730.1666666666665, 'sci-tech': 711.4782608695652, 'science': 196.0380761523046, 'section': 98321.0, 'short': 98321.0, 'signpost': 14045.0, 'sikkim': 98321.0, 'society': 179.4073394495413, 'south': 8937.363636363636, 'south asia': 74.05496183206107, 'special': 1665.4745762711864, 'sport': 935.4, 'state': 476.29126213592235, 'style': 2586.4210526315787, 'tabloids': 935.4, 'tale': 98321.0, 'tamil nadu': 30.44291653341861, 'technology': 165.08445945945945, 'telangana': 105.29405405405406, 'television': 3931.88, 'tennis': 716.6788321167883, 'terrorism': 98321.0, 'the cables': 691.4084507042254, 'theatre': 791.9193548387096, 'thiruvananthapuram': 321.3672131147541, 'thread': 16386.0, 'timeline': 16386.0, 'tiruchirapalli': 295.15060240963857, 'travel': 374.2748091603053, 'variety': 3389.4137931034484, 'video': 1926.8823529411766, 'view': 8192.5, 'vijayawada': 126.52529182879377, 'visakhapatnam': 132.40841248303934, 'web exclusives': 16386.0, 'west': 9831.2, 'women in action': 3931.88, 'world': 36.38479087452472, 'world cup': 2233.590909090909, 'young world': 1275.909090909091, 'youth': 24579.5}\n",
            "98322\n",
            "152\n"
          ],
          "name": "stdout"
        },
        {
          "output_type": "execute_result",
          "data": {
            "text/html": [
              "<div>\n",
              "<style scoped>\n",
              "    .dataframe tbody tr th:only-of-type {\n",
              "        vertical-align: middle;\n",
              "    }\n",
              "\n",
              "    .dataframe tbody tr th {\n",
              "        vertical-align: top;\n",
              "    }\n",
              "\n",
              "    .dataframe thead th {\n",
              "        text-align: right;\n",
              "    }\n",
              "</style>\n",
              "<table border=\"1\" class=\"dataframe\">\n",
              "  <thead>\n",
              "    <tr style=\"text-align: right;\">\n",
              "      <th></th>\n",
              "      <th>agriculture</th>\n",
              "      <th>andhra pradesh</th>\n",
              "      <th>app exclusive</th>\n",
              "      <th>archive</th>\n",
              "      <th>art</th>\n",
              "      <th>articles</th>\n",
              "      <th>assam</th>\n",
              "      <th>athletics</th>\n",
              "      <th>author</th>\n",
              "      <th>bengaluru</th>\n",
              "      <th>bihar</th>\n",
              "      <th>books</th>\n",
              "      <th>brainteasers</th>\n",
              "      <th>budget 2020</th>\n",
              "      <th>business</th>\n",
              "      <th>career</th>\n",
              "      <th>cartoon</th>\n",
              "      <th>chennai</th>\n",
              "      <th>child</th>\n",
              "      <th>city</th>\n",
              "      <th>clarification</th>\n",
              "      <th>coimbatore</th>\n",
              "      <th>college</th>\n",
              "      <th>column</th>\n",
              "      <th>comment</th>\n",
              "      <th>company</th>\n",
              "      <th>correction</th>\n",
              "      <th>craft</th>\n",
              "      <th>cricket</th>\n",
              "      <th>culture</th>\n",
              "      <th>dance</th>\n",
              "      <th>data</th>\n",
              "      <th>datadelve</th>\n",
              "      <th>delhi</th>\n",
              "      <th>design</th>\n",
              "      <th>diet</th>\n",
              "      <th>down town</th>\n",
              "      <th>east</th>\n",
              "      <th>economy</th>\n",
              "      <th>editorial</th>\n",
              "      <th>...</th>\n",
              "      <th>sci-tech</th>\n",
              "      <th>science</th>\n",
              "      <th>section</th>\n",
              "      <th>short</th>\n",
              "      <th>signpost</th>\n",
              "      <th>sikkim</th>\n",
              "      <th>society</th>\n",
              "      <th>south</th>\n",
              "      <th>south asia</th>\n",
              "      <th>special</th>\n",
              "      <th>sport</th>\n",
              "      <th>state</th>\n",
              "      <th>style</th>\n",
              "      <th>tabloids</th>\n",
              "      <th>tale</th>\n",
              "      <th>tamil nadu</th>\n",
              "      <th>technology</th>\n",
              "      <th>telangana</th>\n",
              "      <th>television</th>\n",
              "      <th>tennis</th>\n",
              "      <th>terrorism</th>\n",
              "      <th>the cables</th>\n",
              "      <th>theatre</th>\n",
              "      <th>thiruvananthapuram</th>\n",
              "      <th>thread</th>\n",
              "      <th>timeline</th>\n",
              "      <th>tiruchirapalli</th>\n",
              "      <th>travel</th>\n",
              "      <th>variety</th>\n",
              "      <th>video</th>\n",
              "      <th>view</th>\n",
              "      <th>vijayawada</th>\n",
              "      <th>visakhapatnam</th>\n",
              "      <th>web exclusives</th>\n",
              "      <th>west</th>\n",
              "      <th>women in action</th>\n",
              "      <th>world</th>\n",
              "      <th>world cup</th>\n",
              "      <th>young world</th>\n",
              "      <th>youth</th>\n",
              "    </tr>\n",
              "  </thead>\n",
              "  <tbody>\n",
              "    <tr>\n",
              "      <th>0</th>\n",
              "      <td>139</td>\n",
              "      <td>3803</td>\n",
              "      <td>2</td>\n",
              "      <td>131</td>\n",
              "      <td>441</td>\n",
              "      <td>1496</td>\n",
              "      <td>12</td>\n",
              "      <td>44</td>\n",
              "      <td>72</td>\n",
              "      <td>742</td>\n",
              "      <td>91</td>\n",
              "      <td>134</td>\n",
              "      <td>31</td>\n",
              "      <td>132</td>\n",
              "      <td>763</td>\n",
              "      <td>129</td>\n",
              "      <td>38</td>\n",
              "      <td>843</td>\n",
              "      <td>185</td>\n",
              "      <td>4</td>\n",
              "      <td>51</td>\n",
              "      <td>467</td>\n",
              "      <td>134</td>\n",
              "      <td>415</td>\n",
              "      <td>1991</td>\n",
              "      <td>441</td>\n",
              "      <td>51</td>\n",
              "      <td>69</td>\n",
              "      <td>728</td>\n",
              "      <td>446</td>\n",
              "      <td>129</td>\n",
              "      <td>85</td>\n",
              "      <td>12</td>\n",
              "      <td>1732</td>\n",
              "      <td>37</td>\n",
              "      <td>26</td>\n",
              "      <td>3</td>\n",
              "      <td>10</td>\n",
              "      <td>1511</td>\n",
              "      <td>1468</td>\n",
              "      <td>...</td>\n",
              "      <td>138</td>\n",
              "      <td>499</td>\n",
              "      <td>1</td>\n",
              "      <td>1</td>\n",
              "      <td>7</td>\n",
              "      <td>1</td>\n",
              "      <td>545</td>\n",
              "      <td>11</td>\n",
              "      <td>1310</td>\n",
              "      <td>59</td>\n",
              "      <td>105</td>\n",
              "      <td>206</td>\n",
              "      <td>38</td>\n",
              "      <td>105</td>\n",
              "      <td>1</td>\n",
              "      <td>3127</td>\n",
              "      <td>592</td>\n",
              "      <td>925</td>\n",
              "      <td>25</td>\n",
              "      <td>137</td>\n",
              "      <td>1</td>\n",
              "      <td>142</td>\n",
              "      <td>124</td>\n",
              "      <td>305</td>\n",
              "      <td>6</td>\n",
              "      <td>6</td>\n",
              "      <td>332</td>\n",
              "      <td>262</td>\n",
              "      <td>29</td>\n",
              "      <td>51</td>\n",
              "      <td>12</td>\n",
              "      <td>771</td>\n",
              "      <td>737</td>\n",
              "      <td>6</td>\n",
              "      <td>10</td>\n",
              "      <td>25</td>\n",
              "      <td>2630</td>\n",
              "      <td>44</td>\n",
              "      <td>77</td>\n",
              "      <td>4</td>\n",
              "    </tr>\n",
              "  </tbody>\n",
              "</table>\n",
              "<p>1 rows × 152 columns</p>\n",
              "</div>"
            ],
            "text/plain": [
              "   agriculture  andhra pradesh  app exclusive  ...  world cup  young world  youth\n",
              "0          139            3803              2  ...         44           77      4\n",
              "\n",
              "[1 rows x 152 columns]"
            ]
          },
          "metadata": {
            "tags": []
          },
          "execution_count": 20
        }
      ]
    },
    {
      "cell_type": "markdown",
      "metadata": {
        "id": "gWCXA_GdH1bX"
      },
      "source": [
        "## Data Loader\n"
      ]
    },
    {
      "cell_type": "code",
      "metadata": {
        "id": "h-tIFTkiHvJM",
        "colab": {
          "base_uri": "https://localhost:8080/",
          "height": 66,
          "referenced_widgets": [
            "931f88afd8ce4919a1653dc4ebb32b7e",
            "1bb9f08dd7f643ca818a5b2b608181bd",
            "f60bd245654243be8027a895886c2838",
            "9f990596701e42898025ade3cd139f70",
            "806727217fcf41d29840c98808047f62",
            "8df34ff889664d5399295ccc46985ddf",
            "96a82c9168454a9db29d296951c6ee27",
            "eeae0f98bfff44e8b4f4d1e0856b0188"
          ]
        },
        "outputId": "1982fd2f-b82d-44e2-c076-00514f1cc573"
      },
      "source": [
        "# Sections of config\n",
        "max_seq_len = 80\n",
        "tokenizer = BertTokenizerFast.from_pretrained('bert-base-uncased')"
      ],
      "execution_count": 21,
      "outputs": [
        {
          "output_type": "display_data",
          "data": {
            "application/vnd.jupyter.widget-view+json": {
              "model_id": "931f88afd8ce4919a1653dc4ebb32b7e",
              "version_minor": 0,
              "version_major": 2
            },
            "text/plain": [
              "HBox(children=(FloatProgress(value=0.0, description='Downloading', max=231508.0, style=ProgressStyle(descripti…"
            ]
          },
          "metadata": {
            "tags": []
          }
        },
        {
          "output_type": "stream",
          "text": [
            "\n"
          ],
          "name": "stdout"
        }
      ]
    },
    {
      "cell_type": "code",
      "metadata": {
        "id": "z-O7jV2dIxX0"
      },
      "source": [
        "tokens_train = tokenizer.batch_encode_plus(\n",
        "    train_text.tolist(),\n",
        "    max_length = max_seq_len,\n",
        "    pad_to_max_length=True,\n",
        "    truncation=True,\n",
        "    return_token_type_ids=False\n",
        ")\n",
        "\n",
        "# tokenize and encode sequences in the validation set\n",
        "tokens_val = tokenizer.batch_encode_plus(\n",
        "    val_text.tolist(),\n",
        "    max_length = max_seq_len,\n",
        "    pad_to_max_length=True,\n",
        "    truncation=True,\n",
        "    return_token_type_ids=False\n",
        ")"
      ],
      "execution_count": 22,
      "outputs": []
    },
    {
      "cell_type": "code",
      "metadata": {
        "id": "TDDKbJJWI0ku"
      },
      "source": [
        "train_seq = torch.tensor(tokens_train['input_ids'])\n",
        "train_mask = torch.tensor(tokens_train['attention_mask'])\n",
        "train_y = torch.tensor(train_labels.tolist(),dtype=torch.float)\n",
        "\n",
        "# for validation set\n",
        "val_seq = torch.tensor(tokens_val['input_ids'])\n",
        "val_mask = torch.tensor(tokens_val['attention_mask'])\n",
        "val_y = torch.tensor(val_labels.tolist(),dtype=torch.float)"
      ],
      "execution_count": 23,
      "outputs": []
    },
    {
      "cell_type": "code",
      "metadata": {
        "id": "KyUUNdYGJA_J"
      },
      "source": [
        "from torch.utils.data import TensorDataset, DataLoader, RandomSampler, SequentialSampler\n",
        "\n",
        "#define a batch size\n",
        "batch_size = 256\n",
        "\n",
        "train_data = TensorDataset(train_seq, train_mask, train_y)\n",
        "train_sampler = RandomSampler(train_data)\n",
        "train_dataloader = DataLoader(train_data, sampler=train_sampler, batch_size=batch_size)\n",
        "\n",
        "val_data = TensorDataset(val_seq, val_mask, val_y)\n",
        "val_sampler = SequentialSampler(val_data)\n",
        "val_dataloader = DataLoader(val_data, sampler = val_sampler, batch_size=batch_size)"
      ],
      "execution_count": 25,
      "outputs": []
    },
    {
      "cell_type": "code",
      "metadata": {
        "id": "Wv1Zo666JFb_"
      },
      "source": [
        "class BERTClass(torch.nn.Module):\n",
        "    def __init__(self):\n",
        "        super(BERTClass, self).__init__()\n",
        "        self.l1 = AutoModel.from_pretrained('bert-base-uncased')\n",
        "        for param in self.l1.parameters():\n",
        "            param.requires_grad = False\n",
        "        self.dropout = torch.nn.Dropout(0.3)\n",
        "        self.l5 = torch.nn.Linear(768,num_labels)\n",
        "    \n",
        "    def forward(self, ids, mask):\n",
        "        _, output_1= self.l1(ids, attention_mask = mask)\n",
        "        output_2 = self.dropout(output_1) \n",
        "        out = self.l5(output_2)\n",
        "        return out\n",
        "\n",
        "model = BERTClass()\n",
        "model.to(device)"
      ],
      "execution_count": null,
      "outputs": []
    },
    {
      "cell_type": "code",
      "metadata": {
        "id": "tcWuexV_JJ3t"
      },
      "source": [
        "from transformers import AdamW\n",
        "\n",
        "# define the optimizer\n",
        "optimizer = AdamW(model.parameters(), lr = 1e-3)"
      ],
      "execution_count": 27,
      "outputs": []
    },
    {
      "cell_type": "code",
      "metadata": {
        "id": "dVVMj-DZJQA0"
      },
      "source": [
        "def loss_fn(outputs, targets):\n",
        "    return torch.nn.BCEWithLogitsLoss(pos_weight=torch.tensor(wts_list).to(device))(outputs, targets)"
      ],
      "execution_count": 28,
      "outputs": []
    },
    {
      "cell_type": "code",
      "metadata": {
        "id": "Nhi8EnllJTCO"
      },
      "source": [
        "# function to train the model\n",
        "def train():\n",
        "    model.train()\n",
        "    total_loss,total_roc = 0,0\n",
        "    total_preds=[]\n",
        "    for step,batch in enumerate(train_dataloader):\n",
        "      if step % 50 == 0 and not step == 0:\n",
        "          print('  Batch {:>5,}  of  {:>5,}.'.format(step, len(train_dataloader)))\n",
        "          print('roc',roc)\n",
        "      batch = [r.to(device) for r in batch]\n",
        "      sent_id, mask, labels = batch\n",
        "\n",
        "      model.zero_grad()        \n",
        "      preds = model(sent_id, mask)\n",
        "      loss = loss_fn(preds, labels)\n",
        "      total_loss = total_loss + loss.item()\n",
        "      loss.backward()\n",
        "      optimizer.step()\n",
        "      labels = labels.detach().cpu().numpy()\n",
        "      preds = preds.sigmoid().detach().cpu().numpy()\n",
        "\n",
        "      try:\n",
        "        roc= roc_auc_score(labels,preds,average='micro')\n",
        "      except:\n",
        "        roc = 0\n",
        "      total_roc+= roc\n",
        "\n",
        "    avg_loss = total_loss / len(train_dataloader)\n",
        "    avg_roc = total_roc / len(train_dataloader)\n",
        "  \n",
        "    return avg_loss,avg_roc"
      ],
      "execution_count": 31,
      "outputs": []
    },
    {
      "cell_type": "code",
      "metadata": {
        "id": "ODGIJul8JtRU"
      },
      "source": [
        "# function for evaluating the model\n",
        "def evaluate():\n",
        "  \n",
        "    print(\"\\nEvaluating...\")\n",
        "    model.eval()\n",
        "    total_loss,total_roc = 0, 0 \n",
        "    total_preds = []\n",
        "\n",
        "    for step,batch in enumerate(val_dataloader):\n",
        "\n",
        "        if step % 50 == 0 and not step == 0:\n",
        "            print('  Batch {:>5,}  of  {:>5,}.'.format(step, len(val_dataloader)))\n",
        "            print('roc',roc)\n",
        "        batch = [t.to(device) for t in batch]\n",
        "        sent_id, mask, labels = batch\n",
        "        # deactivate autograd\n",
        "        with torch.no_grad():\n",
        "          \n",
        "          preds = model(sent_id, mask)\n",
        "          loss = loss_fn(preds,labels)\n",
        "          total_loss = total_loss + loss.item()\n",
        "          preds = preds.sigmoid().data.cpu().numpy()\n",
        "          labels = labels.detach().cpu().numpy()\n",
        "          # roc_curve(labels,preds)\n",
        "          try:\n",
        "            roc= roc_auc_score(labels,preds,average='micro')\n",
        "          except:\n",
        "            print('Exception')\n",
        "            roc = 0\n",
        "          total_roc += roc\n",
        "    avg_loss = total_loss / len(val_dataloader) \n",
        "    avg_roc  = total_roc/len(val_dataloader) \n",
        "\n",
        "    return avg_loss, avg_roc\n",
        "\n",
        "\n",
        "def roc_curve(label,preds):\n",
        "\n",
        "    print(label.shape)\n",
        "    for i in range(label.shape[1]):\n",
        "      fpr, tpr, thresholds = metrics.roc_curve(label[:,i], preds[:,i])\n",
        "      plt.subplots(figsize=(10, 6))\n",
        "      plt.plot(fpr, tpr, 'o-', label=\"ROC curve\")\n",
        "      plt.plot(np.linspace(0,1,10), np.linspace(0,1,10), label=\"diagonal\")\n",
        "      for x, y, txt in zip(fpr[::5], tpr[::5], thresholds[::5]):\n",
        "          plt.annotate(np.round(txt,2), (x, y-0.04))\n",
        "      rnd_idx = 27\n",
        "      plt.annotate('this point refers to the tpr and the fpr\\n at a probability threshold of {}'.format(np.round(thresholds[rnd_idx], 2)), \n",
        "                  xy=(fpr[rnd_idx], tpr[rnd_idx]), xytext=(fpr[rnd_idx]+0.2, tpr[rnd_idx]-0.25),\n",
        "                  arrowprops=dict(facecolor='black', lw=2, arrowstyle='->'),)\n",
        "      plt.legend(loc=\"upper left\")\n",
        "      plt.xlabel(\"FPR\")\n",
        "      plt.ylabel(\"TPR\")\n",
        "      plt.show()\n",
        "      print(thresholds)\n",
        "\n"
      ],
      "execution_count": 32,
      "outputs": []
    },
    {
      "cell_type": "code",
      "metadata": {
        "colab": {
          "base_uri": "https://localhost:8080/"
        },
        "id": "0-CepstpJxBK",
        "outputId": "43b518b0-72d4-4eb9-d511-224b7972dc77"
      },
      "source": [
        "# set initial loss to infinite\n",
        "best_valid_loss = float('inf')\n",
        "\n",
        "# empty lists to store training and validation loss of each epoch\n",
        "train_losses=[]\n",
        "valid_losses=[]\n",
        "epochs = 100\n",
        "#for each epoch \n",
        "for epoch in range(epochs):\n",
        "     \n",
        "    print('\\n Epoch {:} / {:}'.format(epoch + 1, epochs))\n",
        "    train_loss,train_roc = train()\n",
        "    val_loss,val_roc = evaluate()\n",
        "    if val_loss < best_valid_loss:\n",
        "        best_valid_loss = val_loss\n",
        "        torch.save(model.state_dict(), 'saved_weights.pt')\n",
        "        Drive().fileaction(['saved_weights.pt'],'up')\n",
        "    \n",
        "    train_losses.append(train_loss)\n",
        "    valid_losses.append(val_loss)\n",
        "    \n",
        "    logging.info(f' Epoch {epoch} / {epochs}')\n",
        "    logging.info(f'Training Loss: {train_loss:.3f}, Auc-roc:{train_roc}')\n",
        "    logging.info(f'Validation Loss: {val_loss:.3f}, Auc-roc:{val_roc}')\n",
        "    print(f'Training Loss: {train_loss:.3f}, Auc-roc:{train_roc}')\n",
        "    print(f'Validation Loss: {val_loss:.3f},Auc-roc:{val_roc}',)\n",
        "    Drive().fileaction(['train.log'],'up')"
      ],
      "execution_count": null,
      "outputs": [
        {
          "output_type": "stream",
          "text": [
            "\n",
            " Epoch 1 / 100\n",
            "  Batch    50  of    305.\n",
            "roc 0.676033808990355\n",
            "  Batch   100  of    305.\n",
            "roc 0.7173636345522874\n",
            "  Batch   150  of    305.\n",
            "roc 0.7488059341667057\n",
            "  Batch   200  of    305.\n",
            "roc 0.7747608236315452\n",
            "  Batch   250  of    305.\n",
            "roc 0.7920414501468078\n"
          ],
          "name": "stdout"
        }
      ]
    },
    {
      "cell_type": "code",
      "metadata": {
        "id": "VONW12I3_xPz"
      },
      "source": [
        " "
      ],
      "execution_count": null,
      "outputs": []
    },
    {
      "cell_type": "code",
      "metadata": {
        "id": "3c7rvzryMNHP"
      },
      "source": [
        ""
      ],
      "execution_count": null,
      "outputs": []
    },
    {
      "cell_type": "code",
      "metadata": {
        "colab": {
          "base_uri": "https://localhost:8080/"
        },
        "id": "_JOb457oJ1zO",
        "outputId": "193a1b37-f6b5-4514-ecc1-75fb895de862"
      },
      "source": [
        "path = 'saved_weights.pt'\n",
        "model.load_state_dict(torch.load(path))\n",
        "\n",
        "# evaluate()"
      ],
      "execution_count": null,
      "outputs": [
        {
          "output_type": "execute_result",
          "data": {
            "text/plain": [
              "<All keys matched successfully>"
            ]
          },
          "metadata": {
            "tags": []
          },
          "execution_count": 119
        }
      ]
    },
    {
      "cell_type": "code",
      "metadata": {
        "id": "072iDZJiRDDx"
      },
      "source": [
        "from google.colab import files\n",
        "files.download(path)"
      ],
      "execution_count": null,
      "outputs": []
    },
    {
      "cell_type": "code",
      "metadata": {
        "id": "q9E0JtForoGU"
      },
      "source": [
        "!du -sh saved_weights.pt"
      ],
      "execution_count": null,
      "outputs": []
    },
    {
      "cell_type": "code",
      "metadata": {
        "id": "XrOhh_q9v-Vp"
      },
      "source": [
        "# !pip install httplib2==0.15.0\n",
        "Drive().fileaction(['saved_weights.pt'],'up')"
      ],
      "execution_count": null,
      "outputs": []
    },
    {
      "cell_type": "code",
      "metadata": {
        "id": "0V4z0VYcY1t3"
      },
      "source": [
        "## Inference \n",
        "\n",
        "test_sentence = \"Virat kohli is great cricketer.\"\n",
        "tokenized_text = tokenizer.tokenize(test_sentence) \n",
        "indexed_tokens = tokenizer.convert_tokens_to_ids(tokenized_text)\n",
        "tokens = tokenizer.encode_plus(test_sentence)\n",
        "train_seq = torch.tensor(tokens_train['input_ids']).to(device)\n",
        "train_mask = torch.tensor(tokens_train['attention_mask']).to(device)\n",
        "\n",
        "model.eval()\n",
        "model(train_seq,train_mask)"
      ],
      "execution_count": null,
      "outputs": []
    },
    {
      "cell_type": "code",
      "metadata": {
        "id": "TPb0w1HGccSZ"
      },
      "source": [
        ""
      ],
      "execution_count": null,
      "outputs": []
    }
  ]
}